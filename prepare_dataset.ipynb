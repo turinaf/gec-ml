{
 "cells": [
  {
   "cell_type": "code",
   "execution_count": 19,
   "metadata": {},
   "outputs": [
    {
     "data": {
      "text/html": [
       "<div>\n",
       "<style scoped>\n",
       "    .dataframe tbody tr th:only-of-type {\n",
       "        vertical-align: middle;\n",
       "    }\n",
       "\n",
       "    .dataframe tbody tr th {\n",
       "        vertical-align: top;\n",
       "    }\n",
       "\n",
       "    .dataframe thead th {\n",
       "        text-align: right;\n",
       "    }\n",
       "</style>\n",
       "<table border=\"1\" class=\"dataframe\">\n",
       "  <thead>\n",
       "    <tr style=\"text-align: right;\">\n",
       "      <th></th>\n",
       "      <th>input</th>\n",
       "      <th>target</th>\n",
       "    </tr>\n",
       "  </thead>\n",
       "  <tbody>\n",
       "    <tr>\n",
       "      <th>0</th>\n",
       "      <td>So I think we can not live if old people could...</td>\n",
       "      <td>So I think we would not be alive if our ancest...</td>\n",
       "    </tr>\n",
       "    <tr>\n",
       "      <th>1</th>\n",
       "      <td>So I think we can not live if old people could...</td>\n",
       "      <td>So I think we could not live if older people d...</td>\n",
       "    </tr>\n",
       "    <tr>\n",
       "      <th>2</th>\n",
       "      <td>So I think we can not live if old people could...</td>\n",
       "      <td>So I think we can not live if old people could...</td>\n",
       "    </tr>\n",
       "    <tr>\n",
       "      <th>3</th>\n",
       "      <td>So I think we can not live if old people could...</td>\n",
       "      <td>So I think we can not live if old people can n...</td>\n",
       "    </tr>\n",
       "    <tr>\n",
       "      <th>4</th>\n",
       "      <td>For not use car.</td>\n",
       "      <td>Not for use with a car.</td>\n",
       "    </tr>\n",
       "  </tbody>\n",
       "</table>\n",
       "</div>"
      ],
      "text/plain": [
       "                                               input  \\\n",
       "0  So I think we can not live if old people could...   \n",
       "1  So I think we can not live if old people could...   \n",
       "2  So I think we can not live if old people could...   \n",
       "3  So I think we can not live if old people could...   \n",
       "4                                  For not use car.    \n",
       "\n",
       "                                              target  \n",
       "0  So I think we would not be alive if our ancest...  \n",
       "1  So I think we could not live if older people d...  \n",
       "2  So I think we can not live if old people could...  \n",
       "3  So I think we can not live if old people can n...  \n",
       "4                           Not for use with a car.   "
      ]
     },
     "execution_count": 19,
     "metadata": {},
     "output_type": "execute_result"
    }
   ],
   "source": [
    "import pandas as pd\n",
    "import json\n",
    "\n",
    "train_df = pd.read_csv(\"data/train.csv\")\n",
    "eval_def = pd.read_csv(\"data/eval.csv\")\n",
    "\n",
    "combined_df = pd.concat([train_df, eval_def], ignore_index=True)\n",
    "combined_df.head()"
   ]
  },
  {
   "cell_type": "code",
   "execution_count": null,
   "metadata": {},
   "outputs": [],
   "source": [
    "combined_df.to_csv(\"data/combined.csv\", index=False)"
   ]
  },
  {
   "cell_type": "code",
   "execution_count": 13,
   "metadata": {},
   "outputs": [
    {
     "data": {
      "text/plain": [
       "6004"
      ]
     },
     "execution_count": 13,
     "metadata": {},
     "output_type": "execute_result"
    }
   ],
   "source": [
    "len(combined_df)"
   ]
  },
  {
   "cell_type": "code",
   "execution_count": 24,
   "metadata": {},
   "outputs": [
    {
     "data": {
      "text/html": [
       "<div>\n",
       "<style scoped>\n",
       "    .dataframe tbody tr th:only-of-type {\n",
       "        vertical-align: middle;\n",
       "    }\n",
       "\n",
       "    .dataframe tbody tr th {\n",
       "        vertical-align: top;\n",
       "    }\n",
       "\n",
       "    .dataframe thead th {\n",
       "        text-align: right;\n",
       "    }\n",
       "</style>\n",
       "<table border=\"1\" class=\"dataframe\">\n",
       "  <thead>\n",
       "    <tr style=\"text-align: right;\">\n",
       "      <th></th>\n",
       "      <th>input</th>\n",
       "      <th>target</th>\n",
       "    </tr>\n",
       "  </thead>\n",
       "  <tbody>\n",
       "    <tr>\n",
       "      <th>1782</th>\n",
       "      <td>becase if study in this way of cours, I will g...</td>\n",
       "      <td>If studying occurs in this way, I will learn s...</td>\n",
       "    </tr>\n",
       "    <tr>\n",
       "      <th>3918</th>\n",
       "      <td>He was successful aleady in his fields of livi...</td>\n",
       "      <td>He was successful already in his field of livi...</td>\n",
       "    </tr>\n",
       "    <tr>\n",
       "      <th>221</th>\n",
       "      <td>He/she wants to know everything about the univ...</td>\n",
       "      <td>He/she wants to know everything about the univ...</td>\n",
       "    </tr>\n",
       "    <tr>\n",
       "      <th>5449</th>\n",
       "      <td>I strongly believe that in twenty years there ...</td>\n",
       "      <td>I strongly believe that in twenty years there ...</td>\n",
       "    </tr>\n",
       "    <tr>\n",
       "      <th>6001</th>\n",
       "      <td>Members gather money for the funeral and help ...</td>\n",
       "      <td>Members gather money for the funeral to help t...</td>\n",
       "    </tr>\n",
       "  </tbody>\n",
       "</table>\n",
       "</div>"
      ],
      "text/plain": [
       "                                                  input  \\\n",
       "1782  becase if study in this way of cours, I will g...   \n",
       "3918  He was successful aleady in his fields of livi...   \n",
       "221   He/she wants to know everything about the univ...   \n",
       "5449  I strongly believe that in twenty years there ...   \n",
       "6001  Members gather money for the funeral and help ...   \n",
       "\n",
       "                                                 target  \n",
       "1782  If studying occurs in this way, I will learn s...  \n",
       "3918  He was successful already in his field of livi...  \n",
       "221   He/she wants to know everything about the univ...  \n",
       "5449  I strongly believe that in twenty years there ...  \n",
       "6001  Members gather money for the funeral to help t...  "
      ]
     },
     "execution_count": 24,
     "metadata": {},
     "output_type": "execute_result"
    }
   ],
   "source": [
    "train_df = combined_df.sample(frac=0.8, random_state=42)  # 80% for training\n",
    "eval_df = combined_df.drop(train_df.index)  # remaining 20% for evaluation\n",
    "train_df.head()\n",
    "# print(\"Train length: \", len(train_df))\n",
    "# print(\"Eval length: \", len(eval_df))"
   ]
  },
  {
   "cell_type": "code",
   "execution_count": 25,
   "metadata": {},
   "outputs": [],
   "source": [
    "# Reset index so that it starts from 0 for both train_df and eval_df\n",
    "train_df.reset_index(drop=True, inplace=True)\n",
    "eval_df.reset_index(drop=True, inplace=True)"
   ]
  },
  {
   "cell_type": "code",
   "execution_count": 26,
   "metadata": {},
   "outputs": [
    {
     "data": {
      "text/html": [
       "<div>\n",
       "<style scoped>\n",
       "    .dataframe tbody tr th:only-of-type {\n",
       "        vertical-align: middle;\n",
       "    }\n",
       "\n",
       "    .dataframe tbody tr th {\n",
       "        vertical-align: top;\n",
       "    }\n",
       "\n",
       "    .dataframe thead th {\n",
       "        text-align: right;\n",
       "    }\n",
       "</style>\n",
       "<table border=\"1\" class=\"dataframe\">\n",
       "  <thead>\n",
       "    <tr style=\"text-align: right;\">\n",
       "      <th></th>\n",
       "      <th>input</th>\n",
       "      <th>target</th>\n",
       "    </tr>\n",
       "  </thead>\n",
       "  <tbody>\n",
       "    <tr>\n",
       "      <th>0</th>\n",
       "      <td>becase if study in this way of cours, I will g...</td>\n",
       "      <td>If studying occurs in this way, I will learn s...</td>\n",
       "    </tr>\n",
       "    <tr>\n",
       "      <th>1</th>\n",
       "      <td>He was successful aleady in his fields of livi...</td>\n",
       "      <td>He was successful already in his field of livi...</td>\n",
       "    </tr>\n",
       "    <tr>\n",
       "      <th>2</th>\n",
       "      <td>He/she wants to know everything about the univ...</td>\n",
       "      <td>He/she wants to know everything about the univ...</td>\n",
       "    </tr>\n",
       "    <tr>\n",
       "      <th>3</th>\n",
       "      <td>I strongly believe that in twenty years there ...</td>\n",
       "      <td>I strongly believe that in twenty years there ...</td>\n",
       "    </tr>\n",
       "    <tr>\n",
       "      <th>4</th>\n",
       "      <td>Members gather money for the funeral and help ...</td>\n",
       "      <td>Members gather money for the funeral to help t...</td>\n",
       "    </tr>\n",
       "  </tbody>\n",
       "</table>\n",
       "</div>"
      ],
      "text/plain": [
       "                                               input  \\\n",
       "0  becase if study in this way of cours, I will g...   \n",
       "1  He was successful aleady in his fields of livi...   \n",
       "2  He/she wants to know everything about the univ...   \n",
       "3  I strongly believe that in twenty years there ...   \n",
       "4  Members gather money for the funeral and help ...   \n",
       "\n",
       "                                              target  \n",
       "0  If studying occurs in this way, I will learn s...  \n",
       "1  He was successful already in his field of livi...  \n",
       "2  He/she wants to know everything about the univ...  \n",
       "3  I strongly believe that in twenty years there ...  \n",
       "4  Members gather money for the funeral to help t...  "
      ]
     },
     "execution_count": 26,
     "metadata": {},
     "output_type": "execute_result"
    }
   ],
   "source": [
    "train_df.head()"
   ]
  },
  {
   "cell_type": "code",
   "execution_count": 27,
   "metadata": {},
   "outputs": [
    {
     "data": {
      "text/plain": [
       "'becase if study in this way of cours, I will gante so much, I also will have alot of information the book I study. '"
      ]
     },
     "execution_count": 27,
     "metadata": {},
     "output_type": "execute_result"
    }
   ],
   "source": [
    "train_df['input'][0]"
   ]
  },
  {
   "cell_type": "markdown",
   "metadata": {},
   "source": [
    "The dataset is saved in json format as follows.\n",
    "```json\n",
    "{\n",
    "    \"instruction\": \"Instruction to the model\",\n",
    "    \"input\": \"Input sentence with grammatical error\",\n",
    "    \"targe\": \"Correct version of the sentences\"\n",
    "}\n",
    "```"
   ]
  },
  {
   "cell_type": "code",
   "execution_count": 28,
   "metadata": {},
   "outputs": [],
   "source": [
    "# convert train dataset in json format and save it\n",
    "data_list = []\n",
    "\n",
    "for i in range(len(train_df)):\n",
    "    json_data = {}\n",
    "    json_data = {\n",
    "        \"instruction\": \"Correct grammar errors in this sentence: \",\n",
    "        \"input\": train_df['input'][i],\n",
    "        \"target\": train_df['target'][i]   \n",
    "    }\n",
    "    data_list.append(json_data) \n",
    "    \n",
    "with open('data/train.json', 'w') as f: \n",
    "    json.dump(data_list, f, indent=4, separators=(',', ': ') )"
   ]
  },
  {
   "cell_type": "code",
   "execution_count": 29,
   "metadata": {},
   "outputs": [],
   "source": [
    "# Convert eval_df to json format and save it.\n",
    "df = pd.read_csv(\"data/eval.csv\")\n",
    "data_list  = []\n",
    "for i in range(len(eval_df)):\n",
    "    json_data = {}\n",
    "    json_data = {\n",
    "        \"instruction\": \"Correct grammar errors in this sentence: \",\n",
    "        \"input\": eval_df['input'][i],\n",
    "        \"target\": eval_df['target'][i]\n",
    "    }   \n",
    "    data_list.append(json_data)\n",
    "with open('data/eval.json', 'w') as f:\n",
    "    json.dump(data_list, f, indent=4, separators=(',', ': ') )"
   ]
  }
 ],
 "metadata": {
  "kernelspec": {
   "display_name": "env_ml",
   "language": "python",
   "name": "python3"
  },
  "language_info": {
   "codemirror_mode": {
    "name": "ipython",
    "version": 3
   },
   "file_extension": ".py",
   "mimetype": "text/x-python",
   "name": "python",
   "nbconvert_exporter": "python",
   "pygments_lexer": "ipython3",
   "version": "3.8.0"
  }
 },
 "nbformat": 4,
 "nbformat_minor": 2
}
