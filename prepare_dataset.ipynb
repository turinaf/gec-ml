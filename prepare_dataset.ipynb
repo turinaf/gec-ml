{
 "cells": [
  {
   "cell_type": "code",
   "execution_count": 7,
   "metadata": {},
   "outputs": [
    {
     "data": {
      "text/html": [
       "<div>\n",
       "<style scoped>\n",
       "    .dataframe tbody tr th:only-of-type {\n",
       "        vertical-align: middle;\n",
       "    }\n",
       "\n",
       "    .dataframe tbody tr th {\n",
       "        vertical-align: top;\n",
       "    }\n",
       "\n",
       "    .dataframe thead th {\n",
       "        text-align: right;\n",
       "    }\n",
       "</style>\n",
       "<table border=\"1\" class=\"dataframe\">\n",
       "  <thead>\n",
       "    <tr style=\"text-align: right;\">\n",
       "      <th></th>\n",
       "      <th>input</th>\n",
       "      <th>target</th>\n",
       "    </tr>\n",
       "  </thead>\n",
       "  <tbody>\n",
       "    <tr>\n",
       "      <th>0</th>\n",
       "      <td>So I think we can not live if old people could...</td>\n",
       "      <td>So I think we would not be alive if our ancest...</td>\n",
       "    </tr>\n",
       "    <tr>\n",
       "      <th>1</th>\n",
       "      <td>So I think we can not live if old people could...</td>\n",
       "      <td>So I think we could not live if older people d...</td>\n",
       "    </tr>\n",
       "    <tr>\n",
       "      <th>2</th>\n",
       "      <td>So I think we can not live if old people could...</td>\n",
       "      <td>So I think we can not live if old people could...</td>\n",
       "    </tr>\n",
       "    <tr>\n",
       "      <th>3</th>\n",
       "      <td>So I think we can not live if old people could...</td>\n",
       "      <td>So I think we can not live if old people can n...</td>\n",
       "    </tr>\n",
       "    <tr>\n",
       "      <th>4</th>\n",
       "      <td>For not use car.</td>\n",
       "      <td>Not for use with a car.</td>\n",
       "    </tr>\n",
       "  </tbody>\n",
       "</table>\n",
       "</div>"
      ],
      "text/plain": [
       "                                               input  \\\n",
       "0  So I think we can not live if old people could...   \n",
       "1  So I think we can not live if old people could...   \n",
       "2  So I think we can not live if old people could...   \n",
       "3  So I think we can not live if old people could...   \n",
       "4                                  For not use car.    \n",
       "\n",
       "                                              target  \n",
       "0  So I think we would not be alive if our ancest...  \n",
       "1  So I think we could not live if older people d...  \n",
       "2  So I think we can not live if old people could...  \n",
       "3  So I think we can not live if old people can n...  \n",
       "4                           Not for use with a car.   "
      ]
     },
     "execution_count": 7,
     "metadata": {},
     "output_type": "execute_result"
    }
   ],
   "source": [
    "import pandas as pd\n",
    "import json\n",
    "\n",
    "df = pd.read_csv(\"data/train.csv\")\n",
    "df.head()"
   ]
  },
  {
   "cell_type": "code",
   "execution_count": 2,
   "metadata": {},
   "outputs": [
    {
     "data": {
      "text/plain": [
       "'So I think we can not live if old people could not find siences and tecnologies and they did not developped. '"
      ]
     },
     "execution_count": 2,
     "metadata": {},
     "output_type": "execute_result"
    }
   ],
   "source": [
    "df['input'][0]"
   ]
  },
  {
   "cell_type": "markdown",
   "metadata": {},
   "source": [
    "The dataset is saved in json format as follows.\n",
    "```json\n",
    "{\n",
    "    \"instruction\": \"Instruction to the model\",\n",
    "    \"input\": \"Input sentence with grammatical error\",\n",
    "    \"targe\": \"Correct version of the sentences\"\n",
    "}\n",
    "```"
   ]
  },
  {
   "cell_type": "code",
   "execution_count": 8,
   "metadata": {},
   "outputs": [],
   "source": [
    "\n",
    "data_list = []\n",
    "\n",
    "for i in range(len(df)):\n",
    "    json_data = {}\n",
    "    json_data = {\n",
    "        \"instruction\": \"Correct grammar errors in this sentence: \",\n",
    "        \"input\": df['input'][i],\n",
    "        \"target\": df['target'][i]   \n",
    "    }\n",
    "    data_list.append(json_data) \n",
    "    \n",
    "with open('data/train.json', 'w') as f: \n",
    "    json.dump(data_list, f, indent=4, separators=(',', ': ') )"
   ]
  },
  {
   "cell_type": "code",
   "execution_count": 9,
   "metadata": {},
   "outputs": [],
   "source": [
    "# evalution data\n",
    "df = pd.read_csv(\"data/eval.csv\")\n",
    "data_list  = []\n",
    "for i in range(len(df)):\n",
    "    json_data = {}\n",
    "    json_data = {\n",
    "        \"instruction\": \"Correct grammar errors in this sentence: \",\n",
    "        \"input\": df['input'][i],\n",
    "        \"target\": df['target'][i]\n",
    "    }   \n",
    "    data_list.append(json_data)\n",
    "with open('data/eval.json', 'w') as f:\n",
    "    json.dump(data_list, f, indent=4, separators=(',', ': ') )"
   ]
  }
 ],
 "metadata": {
  "kernelspec": {
   "display_name": "env_ml",
   "language": "python",
   "name": "python3"
  },
  "language_info": {
   "codemirror_mode": {
    "name": "ipython",
    "version": 3
   },
   "file_extension": ".py",
   "mimetype": "text/x-python",
   "name": "python",
   "nbconvert_exporter": "python",
   "pygments_lexer": "ipython3",
   "version": "3.8.0"
  }
 },
 "nbformat": 4,
 "nbformat_minor": 2
}
